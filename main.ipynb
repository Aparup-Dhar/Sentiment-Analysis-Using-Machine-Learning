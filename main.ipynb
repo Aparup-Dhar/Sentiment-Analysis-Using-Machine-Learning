{
  "nbformat": 4,
  "nbformat_minor": 0,
  "metadata": {
    "colab": {
      "provenance": []
    },
    "kernelspec": {
      "name": "python3",
      "display_name": "Python 3"
    },
    "language_info": {
      "name": "python"
    }
  },
  "cells": [
    {
      "cell_type": "code",
      "source": [
        "#2090"
      ],
      "metadata": {
        "id": "XNJZajn1uP92"
      },
      "execution_count": null,
      "outputs": []
    },
    {
      "cell_type": "markdown",
      "source": [
        "IMPORT LIBRARIES"
      ],
      "metadata": {
        "id": "eTJCT_ocYpf9"
      }
    },
    {
      "cell_type": "code",
      "source": [
        "import pandas as pd\n",
        "import numpy as np\n",
        "import re\n",
        "from sklearn.model_selection import train_test_split\n",
        "from sklearn.feature_extraction.text import TfidfVectorizer\n",
        "from sklearn.svm import SVC\n",
        "from sklearn.metrics import accuracy_score, classification_report, confusion_matrix\n",
        "import seaborn as sns\n",
        "import matplotlib.pyplot as plt\n",
        "from sklearn.naive_bayes import MultinomialNB\n",
        "from sklearn.linear_model import LogisticRegression\n",
        "from sklearn.neighbors import KNeighborsClassifier"
      ],
      "metadata": {
        "id": "TuUgrIrTYr0E"
      },
      "execution_count": null,
      "outputs": []
    },
    {
      "cell_type": "markdown",
      "source": [
        "IMPORT DATASET"
      ],
      "metadata": {
        "id": "2CNsqVFlY1-f"
      }
    },
    {
      "cell_type": "code",
      "source": [
        "df = pd.read_csv(\"/content/drive/MyDrive/dataset.csv\")\n",
        "df.head(5)"
      ],
      "metadata": {
        "colab": {
          "base_uri": "https://localhost:8080/",
          "height": 206
        },
        "id": "zEN0mVjtY5ec",
        "outputId": "47da1ecc-9edf-4287-8795-687089cd72e4"
      },
      "execution_count": null,
      "outputs": [
        {
          "output_type": "execute_result",
          "data": {
            "text/plain": [
              "                                                Text Language      Label\n",
              "0  @Charlie_Corley @Kristine1G @amyklobuchar @Sty...       en  litigious\n",
              "1  #BadBunny: Como dos gotas de agua: Joven se di...       es   negative\n",
              "2  https://t.co/YJNiO0p1JV Flagstar Bank disclose...       en  litigious\n",
              "3  Rwanda is set to host the headquarters of Unit...       en   positive\n",
              "4  OOPS. I typed her name incorrectly (today’s br...       en  litigious"
            ],
            "text/html": [
              "\n",
              "  <div id=\"df-8abfe737-6804-4b3c-b624-18f8363ae634\" class=\"colab-df-container\">\n",
              "    <div>\n",
              "<style scoped>\n",
              "    .dataframe tbody tr th:only-of-type {\n",
              "        vertical-align: middle;\n",
              "    }\n",
              "\n",
              "    .dataframe tbody tr th {\n",
              "        vertical-align: top;\n",
              "    }\n",
              "\n",
              "    .dataframe thead th {\n",
              "        text-align: right;\n",
              "    }\n",
              "</style>\n",
              "<table border=\"1\" class=\"dataframe\">\n",
              "  <thead>\n",
              "    <tr style=\"text-align: right;\">\n",
              "      <th></th>\n",
              "      <th>Text</th>\n",
              "      <th>Language</th>\n",
              "      <th>Label</th>\n",
              "    </tr>\n",
              "  </thead>\n",
              "  <tbody>\n",
              "    <tr>\n",
              "      <th>0</th>\n",
              "      <td>@Charlie_Corley @Kristine1G @amyklobuchar @Sty...</td>\n",
              "      <td>en</td>\n",
              "      <td>litigious</td>\n",
              "    </tr>\n",
              "    <tr>\n",
              "      <th>1</th>\n",
              "      <td>#BadBunny: Como dos gotas de agua: Joven se di...</td>\n",
              "      <td>es</td>\n",
              "      <td>negative</td>\n",
              "    </tr>\n",
              "    <tr>\n",
              "      <th>2</th>\n",
              "      <td>https://t.co/YJNiO0p1JV Flagstar Bank disclose...</td>\n",
              "      <td>en</td>\n",
              "      <td>litigious</td>\n",
              "    </tr>\n",
              "    <tr>\n",
              "      <th>3</th>\n",
              "      <td>Rwanda is set to host the headquarters of Unit...</td>\n",
              "      <td>en</td>\n",
              "      <td>positive</td>\n",
              "    </tr>\n",
              "    <tr>\n",
              "      <th>4</th>\n",
              "      <td>OOPS. I typed her name incorrectly (today’s br...</td>\n",
              "      <td>en</td>\n",
              "      <td>litigious</td>\n",
              "    </tr>\n",
              "  </tbody>\n",
              "</table>\n",
              "</div>\n",
              "    <div class=\"colab-df-buttons\">\n",
              "\n",
              "  <div class=\"colab-df-container\">\n",
              "    <button class=\"colab-df-convert\" onclick=\"convertToInteractive('df-8abfe737-6804-4b3c-b624-18f8363ae634')\"\n",
              "            title=\"Convert this dataframe to an interactive table.\"\n",
              "            style=\"display:none;\">\n",
              "\n",
              "  <svg xmlns=\"http://www.w3.org/2000/svg\" height=\"24px\" viewBox=\"0 -960 960 960\">\n",
              "    <path d=\"M120-120v-720h720v720H120Zm60-500h600v-160H180v160Zm220 220h160v-160H400v160Zm0 220h160v-160H400v160ZM180-400h160v-160H180v160Zm440 0h160v-160H620v160ZM180-180h160v-160H180v160Zm440 0h160v-160H620v160Z\"/>\n",
              "  </svg>\n",
              "    </button>\n",
              "\n",
              "  <style>\n",
              "    .colab-df-container {\n",
              "      display:flex;\n",
              "      gap: 12px;\n",
              "    }\n",
              "\n",
              "    .colab-df-convert {\n",
              "      background-color: #E8F0FE;\n",
              "      border: none;\n",
              "      border-radius: 50%;\n",
              "      cursor: pointer;\n",
              "      display: none;\n",
              "      fill: #1967D2;\n",
              "      height: 32px;\n",
              "      padding: 0 0 0 0;\n",
              "      width: 32px;\n",
              "    }\n",
              "\n",
              "    .colab-df-convert:hover {\n",
              "      background-color: #E2EBFA;\n",
              "      box-shadow: 0px 1px 2px rgba(60, 64, 67, 0.3), 0px 1px 3px 1px rgba(60, 64, 67, 0.15);\n",
              "      fill: #174EA6;\n",
              "    }\n",
              "\n",
              "    .colab-df-buttons div {\n",
              "      margin-bottom: 4px;\n",
              "    }\n",
              "\n",
              "    [theme=dark] .colab-df-convert {\n",
              "      background-color: #3B4455;\n",
              "      fill: #D2E3FC;\n",
              "    }\n",
              "\n",
              "    [theme=dark] .colab-df-convert:hover {\n",
              "      background-color: #434B5C;\n",
              "      box-shadow: 0px 1px 3px 1px rgba(0, 0, 0, 0.15);\n",
              "      filter: drop-shadow(0px 1px 2px rgba(0, 0, 0, 0.3));\n",
              "      fill: #FFFFFF;\n",
              "    }\n",
              "  </style>\n",
              "\n",
              "    <script>\n",
              "      const buttonEl =\n",
              "        document.querySelector('#df-8abfe737-6804-4b3c-b624-18f8363ae634 button.colab-df-convert');\n",
              "      buttonEl.style.display =\n",
              "        google.colab.kernel.accessAllowed ? 'block' : 'none';\n",
              "\n",
              "      async function convertToInteractive(key) {\n",
              "        const element = document.querySelector('#df-8abfe737-6804-4b3c-b624-18f8363ae634');\n",
              "        const dataTable =\n",
              "          await google.colab.kernel.invokeFunction('convertToInteractive',\n",
              "                                                    [key], {});\n",
              "        if (!dataTable) return;\n",
              "\n",
              "        const docLinkHtml = 'Like what you see? Visit the ' +\n",
              "          '<a target=\"_blank\" href=https://colab.research.google.com/notebooks/data_table.ipynb>data table notebook</a>'\n",
              "          + ' to learn more about interactive tables.';\n",
              "        element.innerHTML = '';\n",
              "        dataTable['output_type'] = 'display_data';\n",
              "        await google.colab.output.renderOutput(dataTable, element);\n",
              "        const docLink = document.createElement('div');\n",
              "        docLink.innerHTML = docLinkHtml;\n",
              "        element.appendChild(docLink);\n",
              "      }\n",
              "    </script>\n",
              "  </div>\n",
              "\n",
              "\n",
              "<div id=\"df-637b5d0a-123d-4fd5-9550-95a771bb0f32\">\n",
              "  <button class=\"colab-df-quickchart\" onclick=\"quickchart('df-637b5d0a-123d-4fd5-9550-95a771bb0f32')\"\n",
              "            title=\"Suggest charts.\"\n",
              "            style=\"display:none;\">\n",
              "\n",
              "<svg xmlns=\"http://www.w3.org/2000/svg\" height=\"24px\"viewBox=\"0 0 24 24\"\n",
              "     width=\"24px\">\n",
              "    <g>\n",
              "        <path d=\"M19 3H5c-1.1 0-2 .9-2 2v14c0 1.1.9 2 2 2h14c1.1 0 2-.9 2-2V5c0-1.1-.9-2-2-2zM9 17H7v-7h2v7zm4 0h-2V7h2v10zm4 0h-2v-4h2v4z\"/>\n",
              "    </g>\n",
              "</svg>\n",
              "  </button>\n",
              "\n",
              "<style>\n",
              "  .colab-df-quickchart {\n",
              "      --bg-color: #E8F0FE;\n",
              "      --fill-color: #1967D2;\n",
              "      --hover-bg-color: #E2EBFA;\n",
              "      --hover-fill-color: #174EA6;\n",
              "      --disabled-fill-color: #AAA;\n",
              "      --disabled-bg-color: #DDD;\n",
              "  }\n",
              "\n",
              "  [theme=dark] .colab-df-quickchart {\n",
              "      --bg-color: #3B4455;\n",
              "      --fill-color: #D2E3FC;\n",
              "      --hover-bg-color: #434B5C;\n",
              "      --hover-fill-color: #FFFFFF;\n",
              "      --disabled-bg-color: #3B4455;\n",
              "      --disabled-fill-color: #666;\n",
              "  }\n",
              "\n",
              "  .colab-df-quickchart {\n",
              "    background-color: var(--bg-color);\n",
              "    border: none;\n",
              "    border-radius: 50%;\n",
              "    cursor: pointer;\n",
              "    display: none;\n",
              "    fill: var(--fill-color);\n",
              "    height: 32px;\n",
              "    padding: 0;\n",
              "    width: 32px;\n",
              "  }\n",
              "\n",
              "  .colab-df-quickchart:hover {\n",
              "    background-color: var(--hover-bg-color);\n",
              "    box-shadow: 0 1px 2px rgba(60, 64, 67, 0.3), 0 1px 3px 1px rgba(60, 64, 67, 0.15);\n",
              "    fill: var(--button-hover-fill-color);\n",
              "  }\n",
              "\n",
              "  .colab-df-quickchart-complete:disabled,\n",
              "  .colab-df-quickchart-complete:disabled:hover {\n",
              "    background-color: var(--disabled-bg-color);\n",
              "    fill: var(--disabled-fill-color);\n",
              "    box-shadow: none;\n",
              "  }\n",
              "\n",
              "  .colab-df-spinner {\n",
              "    border: 2px solid var(--fill-color);\n",
              "    border-color: transparent;\n",
              "    border-bottom-color: var(--fill-color);\n",
              "    animation:\n",
              "      spin 1s steps(1) infinite;\n",
              "  }\n",
              "\n",
              "  @keyframes spin {\n",
              "    0% {\n",
              "      border-color: transparent;\n",
              "      border-bottom-color: var(--fill-color);\n",
              "      border-left-color: var(--fill-color);\n",
              "    }\n",
              "    20% {\n",
              "      border-color: transparent;\n",
              "      border-left-color: var(--fill-color);\n",
              "      border-top-color: var(--fill-color);\n",
              "    }\n",
              "    30% {\n",
              "      border-color: transparent;\n",
              "      border-left-color: var(--fill-color);\n",
              "      border-top-color: var(--fill-color);\n",
              "      border-right-color: var(--fill-color);\n",
              "    }\n",
              "    40% {\n",
              "      border-color: transparent;\n",
              "      border-right-color: var(--fill-color);\n",
              "      border-top-color: var(--fill-color);\n",
              "    }\n",
              "    60% {\n",
              "      border-color: transparent;\n",
              "      border-right-color: var(--fill-color);\n",
              "    }\n",
              "    80% {\n",
              "      border-color: transparent;\n",
              "      border-right-color: var(--fill-color);\n",
              "      border-bottom-color: var(--fill-color);\n",
              "    }\n",
              "    90% {\n",
              "      border-color: transparent;\n",
              "      border-bottom-color: var(--fill-color);\n",
              "    }\n",
              "  }\n",
              "</style>\n",
              "\n",
              "  <script>\n",
              "    async function quickchart(key) {\n",
              "      const quickchartButtonEl =\n",
              "        document.querySelector('#' + key + ' button');\n",
              "      quickchartButtonEl.disabled = true;  // To prevent multiple clicks.\n",
              "      quickchartButtonEl.classList.add('colab-df-spinner');\n",
              "      try {\n",
              "        const charts = await google.colab.kernel.invokeFunction(\n",
              "            'suggestCharts', [key], {});\n",
              "      } catch (error) {\n",
              "        console.error('Error during call to suggestCharts:', error);\n",
              "      }\n",
              "      quickchartButtonEl.classList.remove('colab-df-spinner');\n",
              "      quickchartButtonEl.classList.add('colab-df-quickchart-complete');\n",
              "    }\n",
              "    (() => {\n",
              "      let quickchartButtonEl =\n",
              "        document.querySelector('#df-637b5d0a-123d-4fd5-9550-95a771bb0f32 button');\n",
              "      quickchartButtonEl.style.display =\n",
              "        google.colab.kernel.accessAllowed ? 'block' : 'none';\n",
              "    })();\n",
              "  </script>\n",
              "</div>\n",
              "    </div>\n",
              "  </div>\n"
            ]
          },
          "metadata": {},
          "execution_count": 3
        }
      ]
    },
    {
      "cell_type": "markdown",
      "source": [
        "DATA REMOVAL"
      ],
      "metadata": {
        "id": "KzX4RlbsZCKs"
      }
    },
    {
      "cell_type": "code",
      "source": [
        "#REMOVING NON ENGLISH\n",
        "df = df[df['Language'] == 'en']\n",
        "df.head(5)\n",
        "print(df.shape)"
      ],
      "metadata": {
        "id": "e1FXX7qNZBXb",
        "colab": {
          "base_uri": "https://localhost:8080/"
        },
        "outputId": "a2c0942e-f157-4527-a120-4ee2ef26114b"
      },
      "execution_count": null,
      "outputs": [
        {
          "output_type": "stream",
          "name": "stdout",
          "text": [
            "(871310, 3)\n"
          ]
        }
      ]
    },
    {
      "cell_type": "markdown",
      "source": [
        "REDUCING DATA (**ONLY FOR TESTING PLEASE USE FULL DATASET FOR REPORT BY COMMENTING THE 3RD LINE BELOW)"
      ],
      "metadata": {
        "id": "o7ii4ILTZnGT"
      }
    },
    {
      "cell_type": "code",
      "source": [
        "#print(df.shape)\n",
        "df = df.sample(frac=0.10, random_state=42)\n",
        "#print(df.shape)"
      ],
      "metadata": {
        "id": "0svbX4uvZt4y"
      },
      "execution_count": null,
      "outputs": []
    },
    {
      "cell_type": "markdown",
      "source": [
        "SHOWING DISTRIBUTION OF POSTIVE AND NEGATIVE LABELED DATA"
      ],
      "metadata": {
        "id": "PljqKTEGkn1D"
      }
    },
    {
      "cell_type": "code",
      "source": [
        "plt.figure(figsize=(8, 6))\n",
        "sns.countplot(x=df['Label'])\n",
        "plt.title('Distribution of Positive and Negative Labeled Data')\n",
        "plt.xlabel('Labels')\n",
        "plt.ylabel('Count')\n",
        "plt.show()"
      ],
      "metadata": {
        "id": "EJZZyyaqkUOd",
        "colab": {
          "base_uri": "https://localhost:8080/",
          "height": 564
        },
        "outputId": "02aed4f6-c820-40d9-a7ad-c73fc31a31c1"
      },
      "execution_count": null,
      "outputs": [
        {
          "output_type": "display_data",
          "data": {
            "text/plain": [
              "<Figure size 800x600 with 1 Axes>"
            ],
            "image/png": "[encoded data removed]"
          },
          "metadata": {}
        }
      ]
    },
    {
      "cell_type": "markdown",
      "source": [
        "DATA PREPROCESSING"
      ],
      "metadata": {
        "id": "U8EBLze1Z3Pa"
      }
    },
    {
      "cell_type": "code",
      "source": [
        "#LOWER CASING\n",
        "df['Clean'] = df.apply(lambda row: row['Text'].lower(),axis=1)\n",
        "#REMOVING @\n",
        "df['Clean'] = df.apply(lambda row: re.sub(\"@[A-Za-z0-9_]+\",\"\", row['Clean']),axis=1)\n",
        "#REMOVING #\n",
        "df['Clean'] = df.apply(lambda row: re.sub(\"#[A-Za-z0-9_]+\",\"\", row['Clean']),axis=1)\n",
        "#REMOVING LINKS\n",
        "df['Clean'] = df.apply(lambda row: re.sub(r\"www.\\S+\",\"\", row['Clean']),axis=1)\n",
        "df['Clean'] = df.apply(lambda row: re.sub(r\"http\\S+\",\"\", row['Clean']),axis=1)\n",
        "#REMOVING SYMBOLS\n",
        "df['Clean'] = df.apply(lambda row: re.sub(\"[^a-z0-9]\",\" \", row['Clean']),axis=1)\n",
        "#VIEW CLEANED DATA\n",
        "df = df[['Clean', 'Label']]\n",
        "df.head(10)"
      ],
      "metadata": {
        "id": "K2Z2NZ8jZ7Mp",
        "colab": {
          "base_uri": "https://localhost:8080/",
          "height": 363
        },
        "outputId": "d24c887a-2921-424d-8f86-c8c7916bc7bd"
      },
      "execution_count": null,
      "outputs": [
        {
          "output_type": "execute_result",
          "data": {
            "text/plain": [
              "                                                    Clean        Label\n",
              "658880   no party nomination  with the possible except...  uncertainty\n",
              "927454  i get asked often   do the results really last...     positive\n",
              "623230                  what a incredible giveaway            positive\n",
              "387639  static  coveting subtle radiance   anaphoric f...     positive\n",
              "308229      no health care for smokers   figure out wh...     negative\n",
              "783679  nope it s your fault  you voted against helpin...     negative\n",
              "391210   was this  witness  in the limo  trump sits in...    litigious\n",
              "51855       you win   you are right   but that means t...    litigious\n",
              "236037   oil hawks trade  kane  for keith if keith is ...     positive\n",
              "362975  strategy classic into the breach is getting fr...    litigious"
            ],
            "text/html": [
              "\n",
              "  <div id=\"df-49a1eeb0-bd9d-48cb-a585-114d416487bd\" class=\"colab-df-container\">\n",
              "    <div>\n",
              "<style scoped>\n",
              "    .dataframe tbody tr th:only-of-type {\n",
              "        vertical-align: middle;\n",
              "    }\n",
              "\n",
              "    .dataframe tbody tr th {\n",
              "        vertical-align: top;\n",
              "    }\n",
              "\n",
              "    .dataframe thead th {\n",
              "        text-align: right;\n",
              "    }\n",
              "</style>\n",
              "<table border=\"1\" class=\"dataframe\">\n",
              "  <thead>\n",
              "    <tr style=\"text-align: right;\">\n",
              "      <th></th>\n",
              "      <th>Clean</th>\n",
              "      <th>Label</th>\n",
              "    </tr>\n",
              "  </thead>\n",
              "  <tbody>\n",
              "    <tr>\n",
              "      <th>658880</th>\n",
              "      <td>no party nomination  with the possible except...</td>\n",
              "      <td>uncertainty</td>\n",
              "    </tr>\n",
              "    <tr>\n",
              "      <th>927454</th>\n",
              "      <td>i get asked often   do the results really last...</td>\n",
              "      <td>positive</td>\n",
              "    </tr>\n",
              "    <tr>\n",
              "      <th>623230</th>\n",
              "      <td>what a incredible giveaway</td>\n",
              "      <td>positive</td>\n",
              "    </tr>\n",
              "    <tr>\n",
              "      <th>387639</th>\n",
              "      <td>static  coveting subtle radiance   anaphoric f...</td>\n",
              "      <td>positive</td>\n",
              "    </tr>\n",
              "    <tr>\n",
              "      <th>308229</th>\n",
              "      <td>no health care for smokers   figure out wh...</td>\n",
              "      <td>negative</td>\n",
              "    </tr>\n",
              "    <tr>\n",
              "      <th>783679</th>\n",
              "      <td>nope it s your fault  you voted against helpin...</td>\n",
              "      <td>negative</td>\n",
              "    </tr>\n",
              "    <tr>\n",
              "      <th>391210</th>\n",
              "      <td>was this  witness  in the limo  trump sits in...</td>\n",
              "      <td>litigious</td>\n",
              "    </tr>\n",
              "    <tr>\n",
              "      <th>51855</th>\n",
              "      <td>you win   you are right   but that means t...</td>\n",
              "      <td>litigious</td>\n",
              "    </tr>\n",
              "    <tr>\n",
              "      <th>236037</th>\n",
              "      <td>oil hawks trade  kane  for keith if keith is ...</td>\n",
              "      <td>positive</td>\n",
              "    </tr>\n",
              "    <tr>\n",
              "      <th>362975</th>\n",
              "      <td>strategy classic into the breach is getting fr...</td>\n",
              "      <td>litigious</td>\n",
              "    </tr>\n",
              "  </tbody>\n",
              "</table>\n",
              "</div>\n",
              "    <div class=\"colab-df-buttons\">\n",
              "\n",
              "  <div class=\"colab-df-container\">\n",
              "    <button class=\"colab-df-convert\" onclick=\"convertToInteractive('df-49a1eeb0-bd9d-48cb-a585-114d416487bd')\"\n",
              "            title=\"Convert this dataframe to an interactive table.\"\n",
              "            style=\"display:none;\">\n",
              "\n",
              "  <svg xmlns=\"http://www.w3.org/2000/svg\" height=\"24px\" viewBox=\"0 -960 960 960\">\n",
              "    <path d=\"M120-120v-720h720v720H120Zm60-500h600v-160H180v160Zm220 220h160v-160H400v160Zm0 220h160v-160H400v160ZM180-400h160v-160H180v160Zm440 0h160v-160H620v160ZM180-180h160v-160H180v160Zm440 0h160v-160H620v160Z\"/>\n",
              "  </svg>\n",
              "    </button>\n",
              "\n",
              "  <style>\n",
              "    .colab-df-container {\n",
              "      display:flex;\n",
              "      gap: 12px;\n",
              "    }\n",
              "\n",
              "    .colab-df-convert {\n",
              "      background-color: #E8F0FE;\n",
              "      border: none;\n",
              "      border-radius: 50%;\n",
              "      cursor: pointer;\n",
              "      display: none;\n",
              "      fill: #1967D2;\n",
              "      height: 32px;\n",
              "      padding: 0 0 0 0;\n",
              "      width: 32px;\n",
              "    }\n",
              "\n",
              "    .colab-df-convert:hover {\n",
              "      background-color: #E2EBFA;\n",
              "      box-shadow: 0px 1px 2px rgba(60, 64, 67, 0.3), 0px 1px 3px 1px rgba(60, 64, 67, 0.15);\n",
              "      fill: #174EA6;\n",
              "    }\n",
              "\n",
              "    .colab-df-buttons div {\n",
              "      margin-bottom: 4px;\n",
              "    }\n",
              "\n",
              "    [theme=dark] .colab-df-convert {\n",
              "      background-color: #3B4455;\n",
              "      fill: #D2E3FC;\n",
              "    }\n",
              "\n",
              "    [theme=dark] .colab-df-convert:hover {\n",
              "      background-color: #434B5C;\n",
              "      box-shadow: 0px 1px 3px 1px rgba(0, 0, 0, 0.15);\n",
              "      filter: drop-shadow(0px 1px 2px rgba(0, 0, 0, 0.3));\n",
              "      fill: #FFFFFF;\n",
              "    }\n",
              "  </style>\n",
              "\n",
              "    <script>\n",
              "      const buttonEl =\n",
              "        document.querySelector('#df-49a1eeb0-bd9d-48cb-a585-114d416487bd button.colab-df-convert');\n",
              "      buttonEl.style.display =\n",
              "        google.colab.kernel.accessAllowed ? 'block' : 'none';\n",
              "\n",
              "      async function convertToInteractive(key) {\n",
              "        const element = document.querySelector('#df-49a1eeb0-bd9d-48cb-a585-114d416487bd');\n",
              "        const dataTable =\n",
              "          await google.colab.kernel.invokeFunction('convertToInteractive',\n",
              "                                                    [key], {});\n",
              "        if (!dataTable) return;\n",
              "\n",
              "        const docLinkHtml = 'Like what you see? Visit the ' +\n",
              "          '<a target=\"_blank\" href=https://colab.research.google.com/notebooks/data_table.ipynb>data table notebook</a>'\n",
              "          + ' to learn more about interactive tables.';\n",
              "        element.innerHTML = '';\n",
              "        dataTable['output_type'] = 'display_data';\n",
              "        await google.colab.output.renderOutput(dataTable, element);\n",
              "        const docLink = document.createElement('div');\n",
              "        docLink.innerHTML = docLinkHtml;\n",
              "        element.appendChild(docLink);\n",
              "      }\n",
              "    </script>\n",
              "  </div>\n",
              "\n",
              "\n",
              "<div id=\"df-f077378d-bc40-4ec5-8493-d63a25ab9a59\">\n",
              "  <button class=\"colab-df-quickchart\" onclick=\"quickchart('df-f077378d-bc40-4ec5-8493-d63a25ab9a59')\"\n",
              "            title=\"Suggest charts.\"\n",
              "            style=\"display:none;\">\n",
              "\n",
              "<svg xmlns=\"http://www.w3.org/2000/svg\" height=\"24px\"viewBox=\"0 0 24 24\"\n",
              "     width=\"24px\">\n",
              "    <g>\n",
              "        <path d=\"M19 3H5c-1.1 0-2 .9-2 2v14c0 1.1.9 2 2 2h14c1.1 0 2-.9 2-2V5c0-1.1-.9-2-2-2zM9 17H7v-7h2v7zm4 0h-2V7h2v10zm4 0h-2v-4h2v4z\"/>\n",
              "    </g>\n",
              "</svg>\n",
              "  </button>\n",
              "\n",
              "<style>\n",
              "  .colab-df-quickchart {\n",
              "      --bg-color: #E8F0FE;\n",
              "      --fill-color: #1967D2;\n",
              "      --hover-bg-color: #E2EBFA;\n",
              "      --hover-fill-color: #174EA6;\n",
              "      --disabled-fill-color: #AAA;\n",
              "      --disabled-bg-color: #DDD;\n",
              "  }\n",
              "\n",
              "  [theme=dark] .colab-df-quickchart {\n",
              "      --bg-color: #3B4455;\n",
              "      --fill-color: #D2E3FC;\n",
              "      --hover-bg-color: #434B5C;\n",
              "      --hover-fill-color: #FFFFFF;\n",
              "      --disabled-bg-color: #3B4455;\n",
              "      --disabled-fill-color: #666;\n",
              "  }\n",
              "\n",
              "  .colab-df-quickchart {\n",
              "    background-color: var(--bg-color);\n",
              "    border: none;\n",
              "    border-radius: 50%;\n",
              "    cursor: pointer;\n",
              "    display: none;\n",
              "    fill: var(--fill-color);\n",
              "    height: 32px;\n",
              "    padding: 0;\n",
              "    width: 32px;\n",
              "  }\n",
              "\n",
              "  .colab-df-quickchart:hover {\n",
              "    background-color: var(--hover-bg-color);\n",
              "    box-shadow: 0 1px 2px rgba(60, 64, 67, 0.3), 0 1px 3px 1px rgba(60, 64, 67, 0.15);\n",
              "    fill: var(--button-hover-fill-color);\n",
              "  }\n",
              "\n",
              "  .colab-df-quickchart-complete:disabled,\n",
              "  .colab-df-quickchart-complete:disabled:hover {\n",
              "    background-color: var(--disabled-bg-color);\n",
              "    fill: var(--disabled-fill-color);\n",
              "    box-shadow: none;\n",
              "  }\n",
              "\n",
              "  .colab-df-spinner {\n",
              "    border: 2px solid var(--fill-color);\n",
              "    border-color: transparent;\n",
              "    border-bottom-color: var(--fill-color);\n",
              "    animation:\n",
              "      spin 1s steps(1) infinite;\n",
              "  }\n",
              "\n",
              "  @keyframes spin {\n",
              "    0% {\n",
              "      border-color: transparent;\n",
              "      border-bottom-color: var(--fill-color);\n",
              "      border-left-color: var(--fill-color);\n",
              "    }\n",
              "    20% {\n",
              "      border-color: transparent;\n",
              "      border-left-color: var(--fill-color);\n",
              "      border-top-color: var(--fill-color);\n",
              "    }\n",
              "    30% {\n",
              "      border-color: transparent;\n",
              "      border-left-color: var(--fill-color);\n",
              "      border-top-color: var(--fill-color);\n",
              "      border-right-color: var(--fill-color);\n",
              "    }\n",
              "    40% {\n",
              "      border-color: transparent;\n",
              "      border-right-color: var(--fill-color);\n",
              "      border-top-color: var(--fill-color);\n",
              "    }\n",
              "    60% {\n",
              "      border-color: transparent;\n",
              "      border-right-color: var(--fill-color);\n",
              "    }\n",
              "    80% {\n",
              "      border-color: transparent;\n",
              "      border-right-color: var(--fill-color);\n",
              "      border-bottom-color: var(--fill-color);\n",
              "    }\n",
              "    90% {\n",
              "      border-color: transparent;\n",
              "      border-bottom-color: var(--fill-color);\n",
              "    }\n",
              "  }\n",
              "</style>\n",
              "\n",
              "  <script>\n",
              "    async function quickchart(key) {\n",
              "      const quickchartButtonEl =\n",
              "        document.querySelector('#' + key + ' button');\n",
              "      quickchartButtonEl.disabled = true;  // To prevent multiple clicks.\n",
              "      quickchartButtonEl.classList.add('colab-df-spinner');\n",
              "      try {\n",
              "        const charts = await google.colab.kernel.invokeFunction(\n",
              "            'suggestCharts', [key], {});\n",
              "      } catch (error) {\n",
              "        console.error('Error during call to suggestCharts:', error);\n",
              "      }\n",
              "      quickchartButtonEl.classList.remove('colab-df-spinner');\n",
              "      quickchartButtonEl.classList.add('colab-df-quickchart-complete');\n",
              "    }\n",
              "    (() => {\n",
              "      let quickchartButtonEl =\n",
              "        document.querySelector('#df-f077378d-bc40-4ec5-8493-d63a25ab9a59 button');\n",
              "      quickchartButtonEl.style.display =\n",
              "        google.colab.kernel.accessAllowed ? 'block' : 'none';\n",
              "    })();\n",
              "  </script>\n",
              "</div>\n",
              "    </div>\n",
              "  </div>\n"
            ]
          },
          "metadata": {},
          "execution_count": 7
        }
      ]
    },
    {
      "cell_type": "markdown",
      "source": [
        "SPLITING DATA"
      ],
      "metadata": {
        "id": "zHH_8Ir0bIZx"
      }
    },
    {
      "cell_type": "code",
      "source": [
        "data = df['Clean']\n",
        "labels = df['Label']\n",
        "\n",
        "# Split the data into training and testing sets\n",
        "X_train, X_test, y_train, y_test = train_test_split(data, labels, test_size=0.2, random_state=42)"
      ],
      "metadata": {
        "id": "sPDnSUKnbH6a"
      },
      "execution_count": null,
      "outputs": []
    },
    {
      "cell_type": "markdown",
      "source": [
        "TF-IDF VECTORIZING"
      ],
      "metadata": {
        "id": "0S-GAn8LbWAY"
      }
    },
    {
      "cell_type": "code",
      "source": [
        "# Create a TF-IDF vectorizer\n",
        "tfidf_vectorizer = TfidfVectorizer(max_features=1000,ngram_range=(1, 3))\n",
        "# Fit and transform the vectorizer on text data\n",
        "X_train = tfidf_vectorizer.fit_transform(X_train)\n",
        "X_test = tfidf_vectorizer.transform(X_test)\n",
        "\n",
        "print(X_train.shape[0])\n",
        "print(X_test.shape[0])\n"
      ],
      "metadata": {
        "id": "maG2gYj4bVAg",
        "colab": {
          "base_uri": "https://localhost:8080/"
        },
        "outputId": "167e37fa-2565-4501-a479-d0dd9908947d"
      },
      "execution_count": null,
      "outputs": [
        {
          "output_type": "stream",
          "name": "stdout",
          "text": [
            "69704\n",
            "17427\n"
          ]
        }
      ]
    },
    {
      "cell_type": "markdown",
      "source": [
        "SVC MODEL TRAIN AND TEST\n"
      ],
      "metadata": {
        "id": "Z6SZxXofcVOJ"
      }
    },
    {
      "cell_type": "code",
      "source": [
        "# Create an SVM classifier with a linear kernel\n",
        "svm_classifier = SVC(kernel='linear')\n",
        "\n",
        "# Train the SVM classifier with TF-IDF vectorized data\n",
        "svm_classifier.fit(X_train, y_train)\n",
        "\n",
        "# Predict with the trained SVM classifier\n",
        "y_pred_svc = svm_classifier.predict(X_test)\n",
        "\n",
        "# Generate a classification report\n",
        "report_svc = classification_report(y_test, y_pred_svc)\n",
        "print('Classification Report:\\n', report_svc)\n"
      ],
      "metadata": {
        "id": "pkICE2MVcXO3",
        "colab": {
          "base_uri": "https://localhost:8080/"
        },
        "outputId": "1d5e6c39-97d3-4d84-c7f7-49f09a38e47b"
      },
      "execution_count": null,
      "outputs": [
        {
          "output_type": "stream",
          "name": "stdout",
          "text": [
            "Classification Report:\n",
            "               precision    recall  f1-score   support\n",
            "\n",
            "   litigious       0.98      0.97      0.97      3573\n",
            "    negative       0.97      0.95      0.96      4916\n",
            "    positive       0.96      0.96      0.96      4896\n",
            " uncertainty       0.94      0.97      0.96      4042\n",
            "\n",
            "    accuracy                           0.96     17427\n",
            "   macro avg       0.96      0.96      0.96     17427\n",
            "weighted avg       0.96      0.96      0.96     17427\n",
            "\n"
          ]
        }
      ]
    },
    {
      "cell_type": "markdown",
      "source": [
        "SVC MODEL CONFUSION MATRIX"
      ],
      "metadata": {
        "id": "1dWw4uLSc-TV"
      }
    },
    {
      "cell_type": "code",
      "source": [
        "from sklearn.metrics import confusion_matrix\n",
        "\n",
        "# Define the subset of labels for display\n",
        "labels = ['negative', 'positive', 'uncertainty', 'litigious']  # Modify this list as needed\n",
        "\n",
        "# Generate a confusion matrix\n",
        "confusion_mat = confusion_matrix(y_test, y_pred_svc, labels=labels)\n",
        "\n",
        "# Display the confusion matrix using a heatmap\n",
        "plt.figure(figsize=(6, 4))\n",
        "sns.heatmap(confusion_mat, annot=True, fmt='d', cmap='Greens', xticklabels=labels, yticklabels=labels)\n",
        "plt.xlabel('Predicted Labels')\n",
        "plt.ylabel('True Labels')\n",
        "plt.title('Multiclass Confusion Matrix')\n",
        "plt.show()\n"
      ],
      "metadata": {
        "id": "M0H8ADjDa5rw",
        "colab": {
          "base_uri": "https://localhost:8080/",
          "height": 410
        },
        "outputId": "a64d8d2b-1e04-47eb-b500-0a42b8e4ef9d"
      },
      "execution_count": null,
      "outputs": [
        {
          "output_type": "display_data",
          "data": {
            "text/plain": [
              "<Figure size 600x400 with 2 Axes>"
            ],
            "image/png": "[encoded data removed]"
          },
          "metadata": {}
        }
      ]
    },
    {
      "cell_type": "markdown",
      "source": [
        "NAIVE BAYES MODEL TRAIN AND TEST\n"
      ],
      "metadata": {
        "id": "VdmH4kxtfxe5"
      }
    },
    {
      "cell_type": "code",
      "source": [
        "# Create an NB classifier\n",
        "nb_classifier = MultinomialNB()\n",
        "\n",
        "# Train the NB classifier with TF-IDF vectorized data\n",
        "nb_classifier.fit(X_train, y_train)\n",
        "\n",
        "# Predict with the trained NB classifier\n",
        "y_pred_nb = nb_classifier.predict(X_test)\n",
        "\n",
        "# Generate a classification report\n",
        "report_nb = classification_report(y_test, y_pred_nb)\n",
        "print('Classification Report:\\n', report_nb)"
      ],
      "metadata": {
        "id": "MYk8agukfxAy",
        "colab": {
          "base_uri": "https://localhost:8080/"
        },
        "outputId": "a17ddbeb-25c0-463b-f34e-167c39c4a646"
      },
      "execution_count": null,
      "outputs": [
        {
          "output_type": "stream",
          "name": "stdout",
          "text": [
            "Classification Report:\n",
            "               precision    recall  f1-score   support\n",
            "\n",
            "   litigious       0.94      0.89      0.91      3573\n",
            "    negative       0.88      0.95      0.91      4916\n",
            "    positive       0.93      0.92      0.92      4896\n",
            " uncertainty       0.91      0.88      0.90      4042\n",
            "\n",
            "    accuracy                           0.91     17427\n",
            "   macro avg       0.92      0.91      0.91     17427\n",
            "weighted avg       0.91      0.91      0.91     17427\n",
            "\n"
          ]
        }
      ]
    },
    {
      "cell_type": "markdown",
      "source": [
        "NB MODEL CONFUSION MATRIX"
      ],
      "metadata": {
        "id": "jVoUeefVgky5"
      }
    },
    {
      "cell_type": "code",
      "source": [
        "from sklearn.metrics import confusion_matrix\n",
        "\n",
        "# Define the subset of labels for display\n",
        "labels = ['negative', 'positive', 'uncertainty', 'litigious']  # Modify this list as needed\n",
        "\n",
        "# Generate a confusion matrix\n",
        "confusion_mat = confusion_matrix(y_test, y_pred_nb, labels=labels)\n",
        "\n",
        "# Display the confusion matrix using a heatmap\n",
        "plt.figure(figsize=(6, 4))\n",
        "sns.heatmap(confusion_mat, annot=True, fmt='d', cmap='Greens', xticklabels=labels, yticklabels=labels)\n",
        "plt.xlabel('Predicted Labels')\n",
        "plt.ylabel('True Labels')\n",
        "plt.title('Multiclass Confusion Matrix')\n",
        "plt.show()\n"
      ],
      "metadata": {
        "id": "e9hKgWJTbxph",
        "colab": {
          "base_uri": "https://localhost:8080/",
          "height": 410
        },
        "outputId": "0d4a3fee-7a75-4899-dae4-8403ef0df06f"
      },
      "execution_count": null,
      "outputs": [
        {
          "output_type": "display_data",
          "data": {
            "text/plain": [
              "<Figure size 600x400 with 2 Axes>"
            ],
            "image/png": "[encoded data removed]"
          },
          "metadata": {}
        }
      ]
    },
    {
      "cell_type": "markdown",
      "source": [
        "LOGISTIC REGRESSION MODEL TRAIN AND TEST\n"
      ],
      "metadata": {
        "id": "WhH0o18bhTBH"
      }
    },
    {
      "cell_type": "code",
      "source": [
        "# Create the Logistic Regression model\n",
        "logistic_classifier = LogisticRegression()\n",
        "\n",
        "# Fit the model to the training data\n",
        "logistic_classifier.fit(X_train, y_train)\n",
        "\n",
        "# Predict with the trained LB classifier\n",
        "y_pred_lr = logistic_classifier.predict(X_test)\n",
        "\n",
        "# Generate a classification report\n",
        "report_lr = classification_report(y_test, y_pred_lr)\n",
        "print('Classification Report:\\n', report_lr)"
      ],
      "metadata": {
        "id": "EQ-MvrewhcGv",
        "colab": {
          "base_uri": "https://localhost:8080/"
        },
        "outputId": "cbd00114-fc65-45b1-f3b8-09441265e053"
      },
      "execution_count": null,
      "outputs": [
        {
          "output_type": "stream",
          "name": "stderr",
          "text": [
            "/usr/local/lib/python3.10/dist-packages/sklearn/linear_model/_logistic.py:458: ConvergenceWarning: lbfgs failed to converge (status=1):\n",
            "STOP: TOTAL NO. of ITERATIONS REACHED LIMIT.\n",
            "\n",
            "Increase the number of iterations (max_iter) or scale the data as shown in:\n",
            "    https://scikit-learn.org/stable/modules/preprocessing.html\n",
            "Please also refer to the documentation for alternative solver options:\n",
            "    https://scikit-learn.org/stable/modules/linear_model.html#logistic-regression\n",
            "  n_iter_i = _check_optimize_result(\n"
          ]
        },
        {
          "output_type": "stream",
          "name": "stdout",
          "text": [
            "Classification Report:\n",
            "               precision    recall  f1-score   support\n",
            "\n",
            "   litigious       0.98      0.96      0.97      3573\n",
            "    negative       0.96      0.96      0.96      4916\n",
            "    positive       0.97      0.96      0.96      4896\n",
            " uncertainty       0.95      0.96      0.96      4042\n",
            "\n",
            "    accuracy                           0.96     17427\n",
            "   macro avg       0.96      0.96      0.96     17427\n",
            "weighted avg       0.96      0.96      0.96     17427\n",
            "\n"
          ]
        }
      ]
    },
    {
      "cell_type": "markdown",
      "source": [
        "LR MODEL CONFUSION MATRIX"
      ],
      "metadata": {
        "id": "aVdMkEJbh9Gn"
      }
    },
    {
      "cell_type": "code",
      "source": [
        "from sklearn.metrics import confusion_matrix\n",
        "\n",
        "# Define the subset of labels for display\n",
        "labels = ['negative', 'positive', 'uncertainty', 'litigious']  # Modify this list as needed\n",
        "\n",
        "# Generate a confusion matrix\n",
        "confusion_mat = confusion_matrix(y_test, y_pred_lr, labels=labels)\n",
        "\n",
        "# Display the confusion matrix using a heatmap\n",
        "plt.figure(figsize=(6, 4))\n",
        "sns.heatmap(confusion_mat, annot=True, fmt='d', cmap='Greens', xticklabels=labels, yticklabels=labels)\n",
        "plt.xlabel('Predicted Labels')\n",
        "plt.ylabel('True Labels')\n",
        "plt.title('Multiclass Confusion Matrix')\n",
        "plt.show()\n"
      ],
      "metadata": {
        "id": "649X-4BcZ1Oh",
        "colab": {
          "base_uri": "https://localhost:8080/",
          "height": 410
        },
        "outputId": "81aa234d-b9d2-4986-8fc8-bd5ab3a4d91c"
      },
      "execution_count": null,
      "outputs": [
        {
          "output_type": "display_data",
          "data": {
            "text/plain": [
              "<Figure size 600x400 with 2 Axes>"
            ],
            "image/png": "[encoded data removed]"
          },
          "metadata": {}
        }
      ]
    },
    {
      "cell_type": "markdown",
      "source": [
        "KNN MODEL TRAIN AND TEST (**DISABLED USE IF NEEDED)\n"
      ],
      "metadata": {
        "id": "5qPxtvpEohHu"
      }
    },
    {
      "cell_type": "code",
      "source": [
        "# Create the KNN model\n",
        "#knn = KNeighborsClassifier(n_neighbors=5)\n",
        "\n",
        "# Fit the model to the training data\n",
        "#knn.fit(X_train, y_train)\n",
        "\n",
        "# Predict with the trained LB classifier\n",
        "#y_pred_knn = knn.predict(X_test)\n",
        "\n",
        "# Generate a classification report\n",
        "#report_knn = classification_report(y_test, y_pred_knn)\n",
        "#print('Classification Report:\\n', report_knn)"
      ],
      "metadata": {
        "id": "Uc2Rgtzhoi1P"
      },
      "execution_count": null,
      "outputs": []
    },
    {
      "cell_type": "markdown",
      "source": [
        "KNN MODEL CONFUSION MATRIX"
      ],
      "metadata": {
        "id": "E7orgwCwpA8t"
      }
    },
    {
      "cell_type": "code",
      "source": [
        "#from sklearn.metrics import confusion_matrix\n",
        "\n",
        "# Define the subset of labels for display\n",
        "#labels = ['negative', 'positive', 'uncertainty', 'litigious']  # Modify this list as needed\n",
        "\n",
        "# Generate a confusion matrix\n",
        "#confusion_mat = confusion_matrix(y_test, y_pred_knn, labels=labels)\n",
        "\n",
        "# Display the confusion matrix using a heatmap\n",
        "#plt.figure(figsize=(6, 4))\n",
        "#sns.heatmap(confusion_mat, annot=True, fmt='d', cmap='Greens', xticklabels=labels, yticklabels=labels)\n",
        "#plt.xlabel('Predicted Labels')\n",
        "#plt.ylabel('True Labels')\n",
        "#plt.title('Multiclass Confusion Matrix')\n",
        "#plt.show()\n"
      ],
      "metadata": {
        "id": "Cu5oPb7lcDwJ"
      },
      "execution_count": null,
      "outputs": []
    },
    {
      "cell_type": "markdown",
      "source": [
        "COMPARING MODELS"
      ],
      "metadata": {
        "id": "5_d3fHzeiMIG"
      }
    },
    {
      "cell_type": "code",
      "source": [
        "print(\"Logistic Regression Classification Report:\")\n",
        "print(report_svc)\n",
        "\n",
        "\n",
        "print(\"\\nNaive Bayes Classification Report:\")\n",
        "print(report_nb)\n",
        "\n",
        "print(\"\\nSupport Vector Classifier Classification Report:\")\n",
        "print(report_lr)\n",
        "\n",
        "#print(\"\\nKNN Classifier Classification Report:\")\n",
        "#print(report_knn)"
      ],
      "metadata": {
        "id": "HrQaRT24iTFe",
        "colab": {
          "base_uri": "https://localhost:8080/"
        },
        "outputId": "e355849a-3276-43ac-8ad3-4b1bd401d4b7"
      },
      "execution_count": null,
      "outputs": [
        {
          "output_type": "stream",
          "name": "stdout",
          "text": [
            "Logistic Regression Classification Report:\n",
            "              precision    recall  f1-score   support\n",
            "\n",
            "   litigious       0.98      0.97      0.97      3573\n",
            "    negative       0.97      0.95      0.96      4916\n",
            "    positive       0.96      0.96      0.96      4896\n",
            " uncertainty       0.94      0.97      0.96      4042\n",
            "\n",
            "    accuracy                           0.96     17427\n",
            "   macro avg       0.96      0.96      0.96     17427\n",
            "weighted avg       0.96      0.96      0.96     17427\n",
            "\n",
            "\n",
            "Naive Bayes Classification Report:\n",
            "              precision    recall  f1-score   support\n",
            "\n",
            "   litigious       0.94      0.89      0.91      3573\n",
            "    negative       0.88      0.95      0.91      4916\n",
            "    positive       0.93      0.92      0.92      4896\n",
            " uncertainty       0.91      0.88      0.90      4042\n",
            "\n",
            "    accuracy                           0.91     17427\n",
            "   macro avg       0.92      0.91      0.91     17427\n",
            "weighted avg       0.91      0.91      0.91     17427\n",
            "\n",
            "\n",
            "Support Vector Classifier Classification Report:\n",
            "              precision    recall  f1-score   support\n",
            "\n",
            "   litigious       0.98      0.96      0.97      3573\n",
            "    negative       0.96      0.96      0.96      4916\n",
            "    positive       0.97      0.96      0.96      4896\n",
            " uncertainty       0.95      0.96      0.96      4042\n",
            "\n",
            "    accuracy                           0.96     17427\n",
            "   macro avg       0.96      0.96      0.96     17427\n",
            "weighted avg       0.96      0.96      0.96     17427\n",
            "\n"
          ]
        }
      ]
    }
  ]
}